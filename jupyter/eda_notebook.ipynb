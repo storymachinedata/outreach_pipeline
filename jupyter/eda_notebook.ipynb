{
 "cells": [
  {
   "cell_type": "code",
   "execution_count": 1,
   "id": "bf3da50d-5dee-458d-8fb3-9ad33338de75",
   "metadata": {},
   "outputs": [],
   "source": [
    "import sys\n",
    "sys.path.append(\"../\")"
   ]
  },
  {
   "cell_type": "markdown",
   "id": "d6db08f4-7b07-4112-a5cc-c4a2b23f8839",
   "metadata": {},
   "source": [
    "## initial Outreach Pipeline"
   ]
  },
  {
   "cell_type": "code",
   "execution_count": 2,
   "id": "b7c199f5-4740-4fd1-818b-36664126d0e6",
   "metadata": {},
   "outputs": [],
   "source": [
    "import os\n",
    "import re\n",
    "import pandas as pd\n",
    "import sqlite3\n",
    "\n",
    "from src.utils.helpers import (\n",
    "    get_actual_date,\n",
    "    url_to_names,\n",
    "    post_interaction_mapper,\n",
    "    likes_reactions_repost_mapper,\n",
    "    outrch_commnty_mangmnt_mapper,\n",
    ")\n",
    "from datetime import datetime"
   ]
  },
  {
   "cell_type": "code",
   "execution_count": 3,
   "id": "793538d8-b991-4d63-b3e3-368da8907a85",
   "metadata": {},
   "outputs": [
    {
     "name": "stdout",
     "output_type": "stream",
     "text": [
      "['raw_new_accounts_comments.csv', 'raw_new_accounts_posts.csv', 'raw_new_accounts_reactions.csv']\n"
     ]
    }
   ],
   "source": [
    "data_lake_path = \"./data/data_lake/\"\n",
    "data_warehouse_path = \"./data/data_warehouse/data_warehouse.db\"\n",
    "\n",
    "all_raw_files = os.listdir(data_lake_path)\n",
    "print(all_raw_files)"
   ]
  },
  {
   "cell_type": "code",
   "execution_count": 4,
   "id": "7fefe491-b0bb-45cb-9d46-683f1a9e9ced",
   "metadata": {},
   "outputs": [],
   "source": [
    "def create_dataset(data_lake_path) -> pd.DataFrame:\n",
    "    df = pd.DataFrame()\n",
    "    for file in all_raw_files:\n",
    "        temp_df = pd.read_csv(data_lake_path+file)\n",
    "        print(f\"{file} (shape): {temp_df.shape}\")\n",
    "        df = pd.concat([df, temp_df])\n",
    "    return df\n",
    "\n",
    "def check_null_values(df: pd.DataFrame):\n",
    "    null_count = df.isnull().sum()\n",
    "    check_null_columns = [\"likeCount\", \"commentCount\", \"repostCount\", \"action\"]\n",
    "    for column_name in check_null_columns:\n",
    "        if null_count[column_name] != 0:\n",
    "            print(f\"log(missing_values):{column_name}: {null_count[column_name]}\")\n",
    "            df = df[df[column_name].notna()]\n",
    "    return df\n",
    "\n",
    "def fix_data_types(df: pd.DataFrame):\n",
    "    df[\"postTimestamp\"] = pd.to_datetime(df[\"postTimestamp\"]).dt.tz_localize(None)\n",
    "    return df\n",
    "\n",
    "def remove_unwanted_columns(df: pd.DataFrame):\n",
    "    column_names = ['imgUrl', 'type', 'postDate', 'commentContent', 'commentUrl',\n",
    "                'sharedPostUrl', 'timestamp',\n",
    "                'videoUrl', 'sharedJobUrl']\n",
    "    return df.drop(columns=column_names, axis=1)\n",
    "\n",
    "def _word_has_numbers(word):\n",
    "    return any(char.isdigit() for char in word)\n",
    "\n",
    "def create_profile_url_to_name_mapper(df: pd.DataFrame):\n",
    "    mapper = {}\n",
    "    profile_urls = df[\"profileUrl\"].unique()\n",
    "    for url in profile_urls:\n",
    "        raw_name = url.split(\"/\")[4]\n",
    "        name_split = raw_name.split(\"-\")\n",
    "        if len(name_split) > 1:\n",
    "            name = \" \".join(name_split[:-1])\n",
    "        mapper[url] = name\n",
    "        \n",
    "    return mapper\n",
    "    \n",
    "def get_profile_names(df: pd.DataFrame):\n",
    "    mapper = create_profile_url_to_name_mapper(df=df)\n",
    "    df[\"profileName\"] = df[\"profileUrl\"].map(mapper)\n",
    "    return df\n",
    "\n",
    "def get_actions_data(df: pd.DataFrame) -> pd.DataFrame:\n",
    "    df[\"activity\"] = df.action.tolist()\n",
    "    df[\"action\"] = df[\"activity\"].apply(post_interaction_mapper)\n",
    "    df[\"action\"] = df.action.map(likes_reactions_repost_mapper)\n",
    "    df = df.drop(\"activity\", axis=1)\n",
    "    return df\n",
    "\n",
    "def reorder_columns(df: pd.DataFrame):\n",
    "    return df.reindex(columns=['profileUrl', 'profileName', 'postTimestamp', \n",
    "                       \"postContent\", \"postUrl\", \"action\", \"likeCount\", \n",
    "                        \"commentCount\", \"repostCount\"])\n",
    "\n",
    "def sqlite_connection(data_warehouse_path: str):\n",
    "    conn = sqlite3.connect(data_warehouse_path)\n",
    "    return conn\n",
    "def cut_post_size(text):\n",
    "    return str(text)[:100]\n",
    "\n",
    "def post_fix(df:pd.DataFrame):\n",
    "    df[\"postContent\"] = df[\"postContent\"].apply(cut_post_size)\n",
    "    return df\n",
    "    \n",
    "def create_data_warehouse(data_warehouse_path: str):\n",
    "    file = open(data_warehouse_path, 'w')\n",
    "    file.close()\n",
    "         \n",
    "    conn = sqlite_connection(data_warehouse_path=data_warehouse_path)\n",
    "    cursor = conn.cursor()\n",
    "    \n",
    "    create_query = \"\"\"\n",
    "    CREATE TABLE profile_data \n",
    "    (ID INTEGER PRIMARY KEY AUTOINCREMENT NOT NULL,\n",
    "    profile_url varchar(225) NOT NULL, \n",
    "    profile_name varchar(225) NOT NULL,  \n",
    "    post_time datetime NOT NULL, \n",
    "    postContent varchar(225) NOT NULL, \n",
    "    post_url varchar(225), \n",
    "    action varchar(225) NOT NULL, \n",
    "    likes integer NOT NULL, \n",
    "    comments integer NOT NULL, \n",
    "    reposts NOT NULL);\"\"\"\n",
    "    \n",
    "    cursor.execute(create_query)\n",
    "    conn.close()\n",
    "def add_data_to_warehouse(df: pd.DataFrame, data_warehouse_path: str):\n",
    "    data = list(df.values)\n",
    "    conn = sqlite_connection(data_warehouse_path=data_warehouse_path)\n",
    "    cur = conn.cursor()\n",
    "    insert_query = \"\"\"\n",
    "    INSERT INTO profile_data \n",
    "    VALUES(\n",
    "    NULL,\n",
    "    ?, ?, ?, ?, ?, ?, ?, ?, ?\n",
    "    )\n",
    "    \"\"\"\n",
    "    cur.executemany(insert_query, data)\n",
    "    conn.commit()\n",
    "    conn.close()"
   ]
  },
  {
   "cell_type": "code",
   "execution_count": 5,
   "id": "5264f97f-b579-4213-9a55-ad28961266ff",
   "metadata": {},
   "outputs": [
    {
     "name": "stdout",
     "output_type": "stream",
     "text": [
      "raw_new_accounts_comments.csv (shape): (130, 17)\n",
      "raw_new_accounts_posts.csv (shape): (94, 15)\n",
      "raw_new_accounts_reactions.csv (shape): (1049, 17)\n"
     ]
    }
   ],
   "source": [
    "df = create_dataset(data_lake_path=data_lake_path)\n",
    "df = check_null_values(df=df)\n",
    "df = remove_unwanted_columns(df=df)\n",
    "df = fix_data_types(df=df)\n",
    "df = get_profile_names(df=df)\n",
    "df = post_fix(df=df)\n",
    "df = get_actions_data(df=df)\n",
    "df = reorder_columns(df=df)\n",
    "df = df = df[df[\"postTimestamp\"] > \"2023.01.01\"].sort_values(\"postTimestamp\")\n",
    "df[\"postTimestamp\"] = df[\"postTimestamp\"].apply(lambda x: str(x.replace(microsecond=0)))\n",
    "\n",
    "create_data_warehouse(data_warehouse_path=data_warehouse_path)\n",
    "add_data_to_warehouse(df=df, data_warehouse_path=data_warehouse_path)"
   ]
  },
  {
   "cell_type": "code",
   "execution_count": 7,
   "id": "c81d1942-69da-4fb0-8c73-46e9ef42277c",
   "metadata": {},
   "outputs": [],
   "source": [
    "x = pd.read_sql_query(\"SELECT * FROM profile_data\", sqlite_connection(data_warehouse_path=data_warehouse_path))"
   ]
  },
  {
   "cell_type": "code",
   "execution_count": 9,
   "id": "d23f8beb-5cb7-4ffc-9839-be3d0b0518e8",
   "metadata": {},
   "outputs": [
    {
     "data": {
      "text/html": [
       "<div>\n",
       "<style scoped>\n",
       "    .dataframe tbody tr th:only-of-type {\n",
       "        vertical-align: middle;\n",
       "    }\n",
       "\n",
       "    .dataframe tbody tr th {\n",
       "        vertical-align: top;\n",
       "    }\n",
       "\n",
       "    .dataframe thead th {\n",
       "        text-align: right;\n",
       "    }\n",
       "</style>\n",
       "<table border=\"1\" class=\"dataframe\">\n",
       "  <thead>\n",
       "    <tr style=\"text-align: right;\">\n",
       "      <th></th>\n",
       "      <th>ID</th>\n",
       "      <th>profile_url</th>\n",
       "      <th>profile_name</th>\n",
       "      <th>post_time</th>\n",
       "      <th>postContent</th>\n",
       "      <th>post_url</th>\n",
       "      <th>action</th>\n",
       "      <th>likes</th>\n",
       "      <th>comments</th>\n",
       "      <th>reposts</th>\n",
       "    </tr>\n",
       "  </thead>\n",
       "  <tbody>\n",
       "    <tr>\n",
       "      <th>0</th>\n",
       "      <td>1</td>\n",
       "      <td>https://www.linkedin.com/in/jasmin-rummer-1571...</td>\n",
       "      <td>jasmin rummer</td>\n",
       "      <td>2023-01-01 08:31:46</td>\n",
       "      <td>Excited to start a new challenge as Head of Ta...</td>\n",
       "      <td>https://www.linkedin.com/feed/update/urn:li:ac...</td>\n",
       "      <td>post</td>\n",
       "      <td>170</td>\n",
       "      <td>38</td>\n",
       "      <td>0</td>\n",
       "    </tr>\n",
       "    <tr>\n",
       "      <th>1</th>\n",
       "      <td>2</td>\n",
       "      <td>https://www.linkedin.com/in/jasmin-rummer-1571...</td>\n",
       "      <td>jasmin rummer</td>\n",
       "      <td>2023-01-01 16:56:48</td>\n",
       "      <td>Ich habe einen neuen Job und arbeite jetzt als...</td>\n",
       "      <td>https://www.linkedin.com/feed/update/urn:li:ac...</td>\n",
       "      <td>comments</td>\n",
       "      <td>115</td>\n",
       "      <td>22</td>\n",
       "      <td>0</td>\n",
       "    </tr>\n",
       "    <tr>\n",
       "      <th>2</th>\n",
       "      <td>3</td>\n",
       "      <td>https://www.linkedin.com/in/jasmin-rummer-1571...</td>\n",
       "      <td>jasmin rummer</td>\n",
       "      <td>2023-01-02 12:47:50</td>\n",
       "      <td>It's time for a #change . Today I'm starting a...</td>\n",
       "      <td>https://www.linkedin.com/feed/update/urn:li:ac...</td>\n",
       "      <td>comments</td>\n",
       "      <td>342</td>\n",
       "      <td>66</td>\n",
       "      <td>0</td>\n",
       "    </tr>\n",
       "    <tr>\n",
       "      <th>3</th>\n",
       "      <td>4</td>\n",
       "      <td>https://www.linkedin.com/in/jasmin-rummer-1571...</td>\n",
       "      <td>jasmin rummer</td>\n",
       "      <td>2023-01-02 20:06:12</td>\n",
       "      <td>👋🏼 Goodbye Uniper 💙🙌 Hello Brenntag 💜I am prou...</td>\n",
       "      <td>https://www.linkedin.com/feed/update/urn:li:ac...</td>\n",
       "      <td>comments</td>\n",
       "      <td>250</td>\n",
       "      <td>61</td>\n",
       "      <td>0</td>\n",
       "    </tr>\n",
       "    <tr>\n",
       "      <th>4</th>\n",
       "      <td>5</td>\n",
       "      <td>https://www.linkedin.com/in/jasmin-rummer-1571...</td>\n",
       "      <td>jasmin rummer</td>\n",
       "      <td>2023-01-03 10:32:11</td>\n",
       "      <td>So darf das Jahr gerne beginnen: Mit dem Unter...</td>\n",
       "      <td>https://www.linkedin.com/feed/update/urn:li:ac...</td>\n",
       "      <td>comments</td>\n",
       "      <td>56</td>\n",
       "      <td>3</td>\n",
       "      <td>0</td>\n",
       "    </tr>\n",
       "  </tbody>\n",
       "</table>\n",
       "</div>"
      ],
      "text/plain": [
       "   ID                                        profile_url   profile_name  \\\n",
       "0   1  https://www.linkedin.com/in/jasmin-rummer-1571...  jasmin rummer   \n",
       "1   2  https://www.linkedin.com/in/jasmin-rummer-1571...  jasmin rummer   \n",
       "2   3  https://www.linkedin.com/in/jasmin-rummer-1571...  jasmin rummer   \n",
       "3   4  https://www.linkedin.com/in/jasmin-rummer-1571...  jasmin rummer   \n",
       "4   5  https://www.linkedin.com/in/jasmin-rummer-1571...  jasmin rummer   \n",
       "\n",
       "             post_time                                        postContent  \\\n",
       "0  2023-01-01 08:31:46  Excited to start a new challenge as Head of Ta...   \n",
       "1  2023-01-01 16:56:48  Ich habe einen neuen Job und arbeite jetzt als...   \n",
       "2  2023-01-02 12:47:50  It's time for a #change . Today I'm starting a...   \n",
       "3  2023-01-02 20:06:12  👋🏼 Goodbye Uniper 💙🙌 Hello Brenntag 💜I am prou...   \n",
       "4  2023-01-03 10:32:11  So darf das Jahr gerne beginnen: Mit dem Unter...   \n",
       "\n",
       "                                            post_url    action  likes  \\\n",
       "0  https://www.linkedin.com/feed/update/urn:li:ac...      post    170   \n",
       "1  https://www.linkedin.com/feed/update/urn:li:ac...  comments    115   \n",
       "2  https://www.linkedin.com/feed/update/urn:li:ac...  comments    342   \n",
       "3  https://www.linkedin.com/feed/update/urn:li:ac...  comments    250   \n",
       "4  https://www.linkedin.com/feed/update/urn:li:ac...  comments     56   \n",
       "\n",
       "   comments  reposts  \n",
       "0        38        0  \n",
       "1        22        0  \n",
       "2        66        0  \n",
       "3        61        0  \n",
       "4         3        0  "
      ]
     },
     "execution_count": 9,
     "metadata": {},
     "output_type": "execute_result"
    }
   ],
   "source": [
    "x.head()"
   ]
  },
  {
   "cell_type": "markdown",
   "id": "c1ca6604-5c62-4e20-aab7-86662e24798b",
   "metadata": {
    "jp-MarkdownHeadingCollapsed": true
   },
   "source": [
    "## Extra stuff"
   ]
  },
  {
   "cell_type": "code",
   "execution_count": 25,
   "id": "2f6ea696-79f6-4174-b164-cc0c5dc2074d",
   "metadata": {},
   "outputs": [],
   "source": [
    "df[\"month\"] = pd.to_datetime(df[\"postTimestamp\"]).dt.month_name()"
   ]
  },
  {
   "cell_type": "code",
   "execution_count": 31,
   "id": "fe034e6a-2434-4625-a7de-47602ffd413f",
   "metadata": {},
   "outputs": [],
   "source": [
    "posts = (\n",
    "        df.groupby([\"profileName\", \"month\", \"action\"])\n",
    "        .size()\n",
    "        .unstack(fill_value=0)\n",
    "        .reset_index()\n",
    "    )"
   ]
  },
  {
   "cell_type": "code",
   "execution_count": 32,
   "id": "19daca1d-4cf3-4f2f-9acd-3e0da49a2bc3",
   "metadata": {},
   "outputs": [
    {
     "data": {
      "text/plain": [
       "array(['post', 'comments', 'replied to a comment', 'likes and reactions',\n",
       "       'liked a comment on their own post', 'repost'], dtype=object)"
      ]
     },
     "execution_count": 32,
     "metadata": {},
     "output_type": "execute_result"
    }
   ],
   "source": [
    "df.action.unique()"
   ]
  },
  {
   "cell_type": "code",
   "execution_count": 33,
   "id": "a9242e8f-6657-4647-90e7-dc075b61ca18",
   "metadata": {},
   "outputs": [],
   "source": [
    "posts = posts.pivot_table(\n",
    "        index=\"profileName\",\n",
    "        columns=\"month\",\n",
    "        values=[\n",
    "            'post', 'repost'\n",
    "        ],\n",
    "        fill_value=0,\n",
    "    )\n",
    "desired_order = [\"January\", \"Febraury\", \"March\",\n",
    "                 \"April\", \"May\", \"June\" ,\n",
    "                 \"July\", \"August\", \"September\", \"October\"]\n",
    "\n",
    "posts = posts.reindex(columns=desired_order, level=1)"
   ]
  },
  {
   "cell_type": "code",
   "execution_count": 34,
   "id": "2a3d02d8-8225-46f7-806a-547239b9dd48",
   "metadata": {},
   "outputs": [],
   "source": [
    "outreach = (\n",
    "        df.groupby([\"profileName\", \"month\", \"action\"])\n",
    "        .size()\n",
    "        .unstack(fill_value=0)\n",
    "        .reset_index()\n",
    "    )"
   ]
  },
  {
   "cell_type": "code",
   "execution_count": 35,
   "id": "2be5beba-4543-4fa6-a3d4-dbc6776a5d16",
   "metadata": {},
   "outputs": [],
   "source": [
    "outreach = outreach.pivot_table(\n",
    "        index=\"profileName\",\n",
    "        columns=\"month\",\n",
    "        values=[\n",
    "            'comments', 'replied to a comment', \n",
    "            'likes and reactions','liked a comment on their own post'\n",
    "        ],\n",
    "        fill_value=0,\n",
    "    )\n",
    "desired_order = [\"January\", \"Febraury\", \"March\",\n",
    "                 \"April\", \"May\", \"June\" ,\n",
    "                 \"July\", \"August\", \"September\", \"October\"]\n",
    "\n",
    "outreach = outreach.reindex(columns=desired_order, level=1)"
   ]
  },
  {
   "cell_type": "code",
   "execution_count": 38,
   "id": "7213596f-27b9-40fb-913f-9cf8addbbc42",
   "metadata": {},
   "outputs": [],
   "source": [
    "excel_writer = pd.ExcelWriter(\n",
    "        f\"new_profiles_{datetime.now().year}_CM_outreach.xlsx\",\n",
    "        engine=\"xlsxwriter\",\n",
    "    )\n",
    "posts.to_excel(excel_writer, sheet_name=\"posts\")\n",
    "outreach.to_excel(excel_writer, sheet_name=\"cm_outreach\")\n",
    "excel_writer.close()"
   ]
  },
  {
   "cell_type": "code",
   "execution_count": 39,
   "id": "88dcb3ab-4adb-4e61-9e6d-090a1fb4f853",
   "metadata": {},
   "outputs": [],
   "source": [
    "!open ."
   ]
  },
  {
   "cell_type": "code",
   "execution_count": null,
   "id": "0434f523-2921-436d-959a-52a5beed7a80",
   "metadata": {},
   "outputs": [],
   "source": []
  }
 ],
 "metadata": {
  "kernelspec": {
   "display_name": "Python 3 (ipykernel)",
   "language": "python",
   "name": "python3"
  },
  "language_info": {
   "codemirror_mode": {
    "name": "ipython",
    "version": 3
   },
   "file_extension": ".py",
   "mimetype": "text/x-python",
   "name": "python",
   "nbconvert_exporter": "python",
   "pygments_lexer": "ipython3",
   "version": "3.9.6"
  }
 },
 "nbformat": 4,
 "nbformat_minor": 5
}
